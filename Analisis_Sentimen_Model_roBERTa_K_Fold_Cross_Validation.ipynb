{
  "nbformat": 4,
  "nbformat_minor": 0,
  "metadata": {
    "colab": {
      "provenance": [],
      "authorship_tag": "ABX9TyPaL1hWxLVKIo52qnSjf+Di",
      "include_colab_link": true
    },
    "kernelspec": {
      "name": "python3",
      "display_name": "Python 3"
    },
    "language_info": {
      "name": "python"
    },
    "widgets": {
      "application/vnd.jupyter.widget-state+json": {
        "ba695b3b95e44a148d671d1bae77055d": {
          "model_module": "@jupyter-widgets/controls",
          "model_name": "HBoxModel",
          "model_module_version": "1.5.0",
          "state": {
            "_dom_classes": [],
            "_model_module": "@jupyter-widgets/controls",
            "_model_module_version": "1.5.0",
            "_model_name": "HBoxModel",
            "_view_count": null,
            "_view_module": "@jupyter-widgets/controls",
            "_view_module_version": "1.5.0",
            "_view_name": "HBoxView",
            "box_style": "",
            "children": [
              "IPY_MODEL_e7959b622a844773a6462289a4da1b82",
              "IPY_MODEL_f94d9c372a534ce6a673cbb0866a26b3",
              "IPY_MODEL_c7293e8f5cde4d29a758e216ec4abf0d"
            ],
            "layout": "IPY_MODEL_584f713e912441c182a3da2c1e50c547"
          }
        },
        "e7959b622a844773a6462289a4da1b82": {
          "model_module": "@jupyter-widgets/controls",
          "model_name": "HTMLModel",
          "model_module_version": "1.5.0",
          "state": {
            "_dom_classes": [],
            "_model_module": "@jupyter-widgets/controls",
            "_model_module_version": "1.5.0",
            "_model_name": "HTMLModel",
            "_view_count": null,
            "_view_module": "@jupyter-widgets/controls",
            "_view_module_version": "1.5.0",
            "_view_name": "HTMLView",
            "description": "",
            "description_tooltip": null,
            "layout": "IPY_MODEL_b1e0c59fb3534abf877b3f7d08660081",
            "placeholder": "​",
            "style": "IPY_MODEL_fb3fbfea4e43400ead4bb5d922c9fc2b",
            "value": "Map: 100%"
          }
        },
        "f94d9c372a534ce6a673cbb0866a26b3": {
          "model_module": "@jupyter-widgets/controls",
          "model_name": "FloatProgressModel",
          "model_module_version": "1.5.0",
          "state": {
            "_dom_classes": [],
            "_model_module": "@jupyter-widgets/controls",
            "_model_module_version": "1.5.0",
            "_model_name": "FloatProgressModel",
            "_view_count": null,
            "_view_module": "@jupyter-widgets/controls",
            "_view_module_version": "1.5.0",
            "_view_name": "ProgressView",
            "bar_style": "success",
            "description": "",
            "description_tooltip": null,
            "layout": "IPY_MODEL_e8ad2638f7fa495d8cc2303024c0f870",
            "max": 668,
            "min": 0,
            "orientation": "horizontal",
            "style": "IPY_MODEL_9a2b6450b69048caae46d71c264f112c",
            "value": 668
          }
        },
        "c7293e8f5cde4d29a758e216ec4abf0d": {
          "model_module": "@jupyter-widgets/controls",
          "model_name": "HTMLModel",
          "model_module_version": "1.5.0",
          "state": {
            "_dom_classes": [],
            "_model_module": "@jupyter-widgets/controls",
            "_model_module_version": "1.5.0",
            "_model_name": "HTMLModel",
            "_view_count": null,
            "_view_module": "@jupyter-widgets/controls",
            "_view_module_version": "1.5.0",
            "_view_name": "HTMLView",
            "description": "",
            "description_tooltip": null,
            "layout": "IPY_MODEL_9f5a7f6d3462452e8ca62ad7b967ed9a",
            "placeholder": "​",
            "style": "IPY_MODEL_3102ddcb46d747b4accfe65ce0afc8d1",
            "value": " 668/668 [00:00&lt;00:00, 3439.86 examples/s]"
          }
        },
        "584f713e912441c182a3da2c1e50c547": {
          "model_module": "@jupyter-widgets/base",
          "model_name": "LayoutModel",
          "model_module_version": "1.2.0",
          "state": {
            "_model_module": "@jupyter-widgets/base",
            "_model_module_version": "1.2.0",
            "_model_name": "LayoutModel",
            "_view_count": null,
            "_view_module": "@jupyter-widgets/base",
            "_view_module_version": "1.2.0",
            "_view_name": "LayoutView",
            "align_content": null,
            "align_items": null,
            "align_self": null,
            "border": null,
            "bottom": null,
            "display": null,
            "flex": null,
            "flex_flow": null,
            "grid_area": null,
            "grid_auto_columns": null,
            "grid_auto_flow": null,
            "grid_auto_rows": null,
            "grid_column": null,
            "grid_gap": null,
            "grid_row": null,
            "grid_template_areas": null,
            "grid_template_columns": null,
            "grid_template_rows": null,
            "height": null,
            "justify_content": null,
            "justify_items": null,
            "left": null,
            "margin": null,
            "max_height": null,
            "max_width": null,
            "min_height": null,
            "min_width": null,
            "object_fit": null,
            "object_position": null,
            "order": null,
            "overflow": null,
            "overflow_x": null,
            "overflow_y": null,
            "padding": null,
            "right": null,
            "top": null,
            "visibility": null,
            "width": null
          }
        },
        "b1e0c59fb3534abf877b3f7d08660081": {
          "model_module": "@jupyter-widgets/base",
          "model_name": "LayoutModel",
          "model_module_version": "1.2.0",
          "state": {
            "_model_module": "@jupyter-widgets/base",
            "_model_module_version": "1.2.0",
            "_model_name": "LayoutModel",
            "_view_count": null,
            "_view_module": "@jupyter-widgets/base",
            "_view_module_version": "1.2.0",
            "_view_name": "LayoutView",
            "align_content": null,
            "align_items": null,
            "align_self": null,
            "border": null,
            "bottom": null,
            "display": null,
            "flex": null,
            "flex_flow": null,
            "grid_area": null,
            "grid_auto_columns": null,
            "grid_auto_flow": null,
            "grid_auto_rows": null,
            "grid_column": null,
            "grid_gap": null,
            "grid_row": null,
            "grid_template_areas": null,
            "grid_template_columns": null,
            "grid_template_rows": null,
            "height": null,
            "justify_content": null,
            "justify_items": null,
            "left": null,
            "margin": null,
            "max_height": null,
            "max_width": null,
            "min_height": null,
            "min_width": null,
            "object_fit": null,
            "object_position": null,
            "order": null,
            "overflow": null,
            "overflow_x": null,
            "overflow_y": null,
            "padding": null,
            "right": null,
            "top": null,
            "visibility": null,
            "width": null
          }
        },
        "fb3fbfea4e43400ead4bb5d922c9fc2b": {
          "model_module": "@jupyter-widgets/controls",
          "model_name": "DescriptionStyleModel",
          "model_module_version": "1.5.0",
          "state": {
            "_model_module": "@jupyter-widgets/controls",
            "_model_module_version": "1.5.0",
            "_model_name": "DescriptionStyleModel",
            "_view_count": null,
            "_view_module": "@jupyter-widgets/base",
            "_view_module_version": "1.2.0",
            "_view_name": "StyleView",
            "description_width": ""
          }
        },
        "e8ad2638f7fa495d8cc2303024c0f870": {
          "model_module": "@jupyter-widgets/base",
          "model_name": "LayoutModel",
          "model_module_version": "1.2.0",
          "state": {
            "_model_module": "@jupyter-widgets/base",
            "_model_module_version": "1.2.0",
            "_model_name": "LayoutModel",
            "_view_count": null,
            "_view_module": "@jupyter-widgets/base",
            "_view_module_version": "1.2.0",
            "_view_name": "LayoutView",
            "align_content": null,
            "align_items": null,
            "align_self": null,
            "border": null,
            "bottom": null,
            "display": null,
            "flex": null,
            "flex_flow": null,
            "grid_area": null,
            "grid_auto_columns": null,
            "grid_auto_flow": null,
            "grid_auto_rows": null,
            "grid_column": null,
            "grid_gap": null,
            "grid_row": null,
            "grid_template_areas": null,
            "grid_template_columns": null,
            "grid_template_rows": null,
            "height": null,
            "justify_content": null,
            "justify_items": null,
            "left": null,
            "margin": null,
            "max_height": null,
            "max_width": null,
            "min_height": null,
            "min_width": null,
            "object_fit": null,
            "object_position": null,
            "order": null,
            "overflow": null,
            "overflow_x": null,
            "overflow_y": null,
            "padding": null,
            "right": null,
            "top": null,
            "visibility": null,
            "width": null
          }
        },
        "9a2b6450b69048caae46d71c264f112c": {
          "model_module": "@jupyter-widgets/controls",
          "model_name": "ProgressStyleModel",
          "model_module_version": "1.5.0",
          "state": {
            "_model_module": "@jupyter-widgets/controls",
            "_model_module_version": "1.5.0",
            "_model_name": "ProgressStyleModel",
            "_view_count": null,
            "_view_module": "@jupyter-widgets/base",
            "_view_module_version": "1.2.0",
            "_view_name": "StyleView",
            "bar_color": null,
            "description_width": ""
          }
        },
        "9f5a7f6d3462452e8ca62ad7b967ed9a": {
          "model_module": "@jupyter-widgets/base",
          "model_name": "LayoutModel",
          "model_module_version": "1.2.0",
          "state": {
            "_model_module": "@jupyter-widgets/base",
            "_model_module_version": "1.2.0",
            "_model_name": "LayoutModel",
            "_view_count": null,
            "_view_module": "@jupyter-widgets/base",
            "_view_module_version": "1.2.0",
            "_view_name": "LayoutView",
            "align_content": null,
            "align_items": null,
            "align_self": null,
            "border": null,
            "bottom": null,
            "display": null,
            "flex": null,
            "flex_flow": null,
            "grid_area": null,
            "grid_auto_columns": null,
            "grid_auto_flow": null,
            "grid_auto_rows": null,
            "grid_column": null,
            "grid_gap": null,
            "grid_row": null,
            "grid_template_areas": null,
            "grid_template_columns": null,
            "grid_template_rows": null,
            "height": null,
            "justify_content": null,
            "justify_items": null,
            "left": null,
            "margin": null,
            "max_height": null,
            "max_width": null,
            "min_height": null,
            "min_width": null,
            "object_fit": null,
            "object_position": null,
            "order": null,
            "overflow": null,
            "overflow_x": null,
            "overflow_y": null,
            "padding": null,
            "right": null,
            "top": null,
            "visibility": null,
            "width": null
          }
        },
        "3102ddcb46d747b4accfe65ce0afc8d1": {
          "model_module": "@jupyter-widgets/controls",
          "model_name": "DescriptionStyleModel",
          "model_module_version": "1.5.0",
          "state": {
            "_model_module": "@jupyter-widgets/controls",
            "_model_module_version": "1.5.0",
            "_model_name": "DescriptionStyleModel",
            "_view_count": null,
            "_view_module": "@jupyter-widgets/base",
            "_view_module_version": "1.2.0",
            "_view_name": "StyleView",
            "description_width": ""
          }
        },
        "e6c79702d82141f8897d4eb18282cb8c": {
          "model_module": "@jupyter-widgets/controls",
          "model_name": "HBoxModel",
          "model_module_version": "1.5.0",
          "state": {
            "_dom_classes": [],
            "_model_module": "@jupyter-widgets/controls",
            "_model_module_version": "1.5.0",
            "_model_name": "HBoxModel",
            "_view_count": null,
            "_view_module": "@jupyter-widgets/controls",
            "_view_module_version": "1.5.0",
            "_view_name": "HBoxView",
            "box_style": "",
            "children": [
              "IPY_MODEL_39af02a09ff04ee39c9eed67fa90e9be",
              "IPY_MODEL_417830f3a0a4486585599d2aa890e4cb",
              "IPY_MODEL_5604157dfa0c444cb06b178e513f86d5"
            ],
            "layout": "IPY_MODEL_668580041e1f4e279f99ac497097baca"
          }
        },
        "39af02a09ff04ee39c9eed67fa90e9be": {
          "model_module": "@jupyter-widgets/controls",
          "model_name": "HTMLModel",
          "model_module_version": "1.5.0",
          "state": {
            "_dom_classes": [],
            "_model_module": "@jupyter-widgets/controls",
            "_model_module_version": "1.5.0",
            "_model_name": "HTMLModel",
            "_view_count": null,
            "_view_module": "@jupyter-widgets/controls",
            "_view_module_version": "1.5.0",
            "_view_name": "HTMLView",
            "description": "",
            "description_tooltip": null,
            "layout": "IPY_MODEL_8eed8dfb2aef455aa034f4781c71b81d",
            "placeholder": "​",
            "style": "IPY_MODEL_fce56f9bc2f14d5094af2a85d7559bc8",
            "value": "Map: 100%"
          }
        },
        "417830f3a0a4486585599d2aa890e4cb": {
          "model_module": "@jupyter-widgets/controls",
          "model_name": "FloatProgressModel",
          "model_module_version": "1.5.0",
          "state": {
            "_dom_classes": [],
            "_model_module": "@jupyter-widgets/controls",
            "_model_module_version": "1.5.0",
            "_model_name": "FloatProgressModel",
            "_view_count": null,
            "_view_module": "@jupyter-widgets/controls",
            "_view_module_version": "1.5.0",
            "_view_name": "ProgressView",
            "bar_style": "success",
            "description": "",
            "description_tooltip": null,
            "layout": "IPY_MODEL_dbb5b5ad4fea4f0391edebbc826c3a0d",
            "max": 168,
            "min": 0,
            "orientation": "horizontal",
            "style": "IPY_MODEL_65fcde30b9314f36b7ad8b5f1283bad3",
            "value": 168
          }
        },
        "5604157dfa0c444cb06b178e513f86d5": {
          "model_module": "@jupyter-widgets/controls",
          "model_name": "HTMLModel",
          "model_module_version": "1.5.0",
          "state": {
            "_dom_classes": [],
            "_model_module": "@jupyter-widgets/controls",
            "_model_module_version": "1.5.0",
            "_model_name": "HTMLModel",
            "_view_count": null,
            "_view_module": "@jupyter-widgets/controls",
            "_view_module_version": "1.5.0",
            "_view_name": "HTMLView",
            "description": "",
            "description_tooltip": null,
            "layout": "IPY_MODEL_5ff3340a38e04db3adb5f467df391699",
            "placeholder": "​",
            "style": "IPY_MODEL_ae1ca705da034e27970bde563007513d",
            "value": " 168/168 [00:00&lt;00:00, 2299.07 examples/s]"
          }
        },
        "668580041e1f4e279f99ac497097baca": {
          "model_module": "@jupyter-widgets/base",
          "model_name": "LayoutModel",
          "model_module_version": "1.2.0",
          "state": {
            "_model_module": "@jupyter-widgets/base",
            "_model_module_version": "1.2.0",
            "_model_name": "LayoutModel",
            "_view_count": null,
            "_view_module": "@jupyter-widgets/base",
            "_view_module_version": "1.2.0",
            "_view_name": "LayoutView",
            "align_content": null,
            "align_items": null,
            "align_self": null,
            "border": null,
            "bottom": null,
            "display": null,
            "flex": null,
            "flex_flow": null,
            "grid_area": null,
            "grid_auto_columns": null,
            "grid_auto_flow": null,
            "grid_auto_rows": null,
            "grid_column": null,
            "grid_gap": null,
            "grid_row": null,
            "grid_template_areas": null,
            "grid_template_columns": null,
            "grid_template_rows": null,
            "height": null,
            "justify_content": null,
            "justify_items": null,
            "left": null,
            "margin": null,
            "max_height": null,
            "max_width": null,
            "min_height": null,
            "min_width": null,
            "object_fit": null,
            "object_position": null,
            "order": null,
            "overflow": null,
            "overflow_x": null,
            "overflow_y": null,
            "padding": null,
            "right": null,
            "top": null,
            "visibility": null,
            "width": null
          }
        },
        "8eed8dfb2aef455aa034f4781c71b81d": {
          "model_module": "@jupyter-widgets/base",
          "model_name": "LayoutModel",
          "model_module_version": "1.2.0",
          "state": {
            "_model_module": "@jupyter-widgets/base",
            "_model_module_version": "1.2.0",
            "_model_name": "LayoutModel",
            "_view_count": null,
            "_view_module": "@jupyter-widgets/base",
            "_view_module_version": "1.2.0",
            "_view_name": "LayoutView",
            "align_content": null,
            "align_items": null,
            "align_self": null,
            "border": null,
            "bottom": null,
            "display": null,
            "flex": null,
            "flex_flow": null,
            "grid_area": null,
            "grid_auto_columns": null,
            "grid_auto_flow": null,
            "grid_auto_rows": null,
            "grid_column": null,
            "grid_gap": null,
            "grid_row": null,
            "grid_template_areas": null,
            "grid_template_columns": null,
            "grid_template_rows": null,
            "height": null,
            "justify_content": null,
            "justify_items": null,
            "left": null,
            "margin": null,
            "max_height": null,
            "max_width": null,
            "min_height": null,
            "min_width": null,
            "object_fit": null,
            "object_position": null,
            "order": null,
            "overflow": null,
            "overflow_x": null,
            "overflow_y": null,
            "padding": null,
            "right": null,
            "top": null,
            "visibility": null,
            "width": null
          }
        },
        "fce56f9bc2f14d5094af2a85d7559bc8": {
          "model_module": "@jupyter-widgets/controls",
          "model_name": "DescriptionStyleModel",
          "model_module_version": "1.5.0",
          "state": {
            "_model_module": "@jupyter-widgets/controls",
            "_model_module_version": "1.5.0",
            "_model_name": "DescriptionStyleModel",
            "_view_count": null,
            "_view_module": "@jupyter-widgets/base",
            "_view_module_version": "1.2.0",
            "_view_name": "StyleView",
            "description_width": ""
          }
        },
        "dbb5b5ad4fea4f0391edebbc826c3a0d": {
          "model_module": "@jupyter-widgets/base",
          "model_name": "LayoutModel",
          "model_module_version": "1.2.0",
          "state": {
            "_model_module": "@jupyter-widgets/base",
            "_model_module_version": "1.2.0",
            "_model_name": "LayoutModel",
            "_view_count": null,
            "_view_module": "@jupyter-widgets/base",
            "_view_module_version": "1.2.0",
            "_view_name": "LayoutView",
            "align_content": null,
            "align_items": null,
            "align_self": null,
            "border": null,
            "bottom": null,
            "display": null,
            "flex": null,
            "flex_flow": null,
            "grid_area": null,
            "grid_auto_columns": null,
            "grid_auto_flow": null,
            "grid_auto_rows": null,
            "grid_column": null,
            "grid_gap": null,
            "grid_row": null,
            "grid_template_areas": null,
            "grid_template_columns": null,
            "grid_template_rows": null,
            "height": null,
            "justify_content": null,
            "justify_items": null,
            "left": null,
            "margin": null,
            "max_height": null,
            "max_width": null,
            "min_height": null,
            "min_width": null,
            "object_fit": null,
            "object_position": null,
            "order": null,
            "overflow": null,
            "overflow_x": null,
            "overflow_y": null,
            "padding": null,
            "right": null,
            "top": null,
            "visibility": null,
            "width": null
          }
        },
        "65fcde30b9314f36b7ad8b5f1283bad3": {
          "model_module": "@jupyter-widgets/controls",
          "model_name": "ProgressStyleModel",
          "model_module_version": "1.5.0",
          "state": {
            "_model_module": "@jupyter-widgets/controls",
            "_model_module_version": "1.5.0",
            "_model_name": "ProgressStyleModel",
            "_view_count": null,
            "_view_module": "@jupyter-widgets/base",
            "_view_module_version": "1.2.0",
            "_view_name": "StyleView",
            "bar_color": null,
            "description_width": ""
          }
        },
        "5ff3340a38e04db3adb5f467df391699": {
          "model_module": "@jupyter-widgets/base",
          "model_name": "LayoutModel",
          "model_module_version": "1.2.0",
          "state": {
            "_model_module": "@jupyter-widgets/base",
            "_model_module_version": "1.2.0",
            "_model_name": "LayoutModel",
            "_view_count": null,
            "_view_module": "@jupyter-widgets/base",
            "_view_module_version": "1.2.0",
            "_view_name": "LayoutView",
            "align_content": null,
            "align_items": null,
            "align_self": null,
            "border": null,
            "bottom": null,
            "display": null,
            "flex": null,
            "flex_flow": null,
            "grid_area": null,
            "grid_auto_columns": null,
            "grid_auto_flow": null,
            "grid_auto_rows": null,
            "grid_column": null,
            "grid_gap": null,
            "grid_row": null,
            "grid_template_areas": null,
            "grid_template_columns": null,
            "grid_template_rows": null,
            "height": null,
            "justify_content": null,
            "justify_items": null,
            "left": null,
            "margin": null,
            "max_height": null,
            "max_width": null,
            "min_height": null,
            "min_width": null,
            "object_fit": null,
            "object_position": null,
            "order": null,
            "overflow": null,
            "overflow_x": null,
            "overflow_y": null,
            "padding": null,
            "right": null,
            "top": null,
            "visibility": null,
            "width": null
          }
        },
        "ae1ca705da034e27970bde563007513d": {
          "model_module": "@jupyter-widgets/controls",
          "model_name": "DescriptionStyleModel",
          "model_module_version": "1.5.0",
          "state": {
            "_model_module": "@jupyter-widgets/controls",
            "_model_module_version": "1.5.0",
            "_model_name": "DescriptionStyleModel",
            "_view_count": null,
            "_view_module": "@jupyter-widgets/base",
            "_view_module_version": "1.2.0",
            "_view_name": "StyleView",
            "description_width": ""
          }
        }
      }
    }
  },
  "cells": [
    {
      "cell_type": "markdown",
      "metadata": {
        "id": "view-in-github",
        "colab_type": "text"
      },
      "source": [
        "<a href=\"https://colab.research.google.com/github/josejulianhidayat/Analisis_Sentimen_Model_roBERTa_dan_K-FOLD_Cross-Validation/blob/main/Analisis_Sentimen_Model_roBERTa_K_Fold_Cross_Validation.ipynb\" target=\"_parent\"><img src=\"https://colab.research.google.com/assets/colab-badge.svg\" alt=\"Open In Colab\"/></a>"
      ]
    },
    {
      "cell_type": "code",
      "execution_count": 24,
      "metadata": {
        "colab": {
          "base_uri": "https://localhost:8080/"
        },
        "id": "L7axkv8DAXvo",
        "outputId": "07c5d2db-f5c8-4375-f3a5-384aef3d8c19"
      },
      "outputs": [
        {
          "output_type": "stream",
          "name": "stdout",
          "text": [
            "Requirement already satisfied: transformers in /usr/local/lib/python3.10/dist-packages (4.46.2)\n",
            "Requirement already satisfied: torch in /usr/local/lib/python3.10/dist-packages (2.5.1+cu121)\n",
            "Requirement already satisfied: pandas in /usr/local/lib/python3.10/dist-packages (2.2.2)\n",
            "Requirement already satisfied: filelock in /usr/local/lib/python3.10/dist-packages (from transformers) (3.16.1)\n",
            "Requirement already satisfied: huggingface-hub<1.0,>=0.23.2 in /usr/local/lib/python3.10/dist-packages (from transformers) (0.26.2)\n",
            "Requirement already satisfied: numpy>=1.17 in /usr/local/lib/python3.10/dist-packages (from transformers) (1.26.4)\n",
            "Requirement already satisfied: packaging>=20.0 in /usr/local/lib/python3.10/dist-packages (from transformers) (24.2)\n",
            "Requirement already satisfied: pyyaml>=5.1 in /usr/local/lib/python3.10/dist-packages (from transformers) (6.0.2)\n",
            "Requirement already satisfied: regex!=2019.12.17 in /usr/local/lib/python3.10/dist-packages (from transformers) (2024.9.11)\n",
            "Requirement already satisfied: requests in /usr/local/lib/python3.10/dist-packages (from transformers) (2.32.3)\n",
            "Requirement already satisfied: safetensors>=0.4.1 in /usr/local/lib/python3.10/dist-packages (from transformers) (0.4.5)\n",
            "Requirement already satisfied: tokenizers<0.21,>=0.20 in /usr/local/lib/python3.10/dist-packages (from transformers) (0.20.3)\n",
            "Requirement already satisfied: tqdm>=4.27 in /usr/local/lib/python3.10/dist-packages (from transformers) (4.66.6)\n",
            "Requirement already satisfied: typing-extensions>=4.8.0 in /usr/local/lib/python3.10/dist-packages (from torch) (4.12.2)\n",
            "Requirement already satisfied: networkx in /usr/local/lib/python3.10/dist-packages (from torch) (3.4.2)\n",
            "Requirement already satisfied: jinja2 in /usr/local/lib/python3.10/dist-packages (from torch) (3.1.4)\n",
            "Requirement already satisfied: fsspec in /usr/local/lib/python3.10/dist-packages (from torch) (2024.10.0)\n",
            "Requirement already satisfied: sympy==1.13.1 in /usr/local/lib/python3.10/dist-packages (from torch) (1.13.1)\n",
            "Requirement already satisfied: mpmath<1.4,>=1.1.0 in /usr/local/lib/python3.10/dist-packages (from sympy==1.13.1->torch) (1.3.0)\n",
            "Requirement already satisfied: python-dateutil>=2.8.2 in /usr/local/lib/python3.10/dist-packages (from pandas) (2.8.2)\n",
            "Requirement already satisfied: pytz>=2020.1 in /usr/local/lib/python3.10/dist-packages (from pandas) (2024.2)\n",
            "Requirement already satisfied: tzdata>=2022.7 in /usr/local/lib/python3.10/dist-packages (from pandas) (2024.2)\n",
            "Requirement already satisfied: six>=1.5 in /usr/local/lib/python3.10/dist-packages (from python-dateutil>=2.8.2->pandas) (1.16.0)\n",
            "Requirement already satisfied: MarkupSafe>=2.0 in /usr/local/lib/python3.10/dist-packages (from jinja2->torch) (3.0.2)\n",
            "Requirement already satisfied: charset-normalizer<4,>=2 in /usr/local/lib/python3.10/dist-packages (from requests->transformers) (3.4.0)\n",
            "Requirement already satisfied: idna<4,>=2.5 in /usr/local/lib/python3.10/dist-packages (from requests->transformers) (3.10)\n",
            "Requirement already satisfied: urllib3<3,>=1.21.1 in /usr/local/lib/python3.10/dist-packages (from requests->transformers) (2.2.3)\n",
            "Requirement already satisfied: certifi>=2017.4.17 in /usr/local/lib/python3.10/dist-packages (from requests->transformers) (2024.8.30)\n"
          ]
        }
      ],
      "source": [
        "!pip install transformers torch pandas"
      ]
    },
    {
      "cell_type": "code",
      "source": [
        "import pandas as pd\n",
        "\n",
        "# Load the dataset with correct delimiter\n",
        "file_path = \"/content/dataset_komentar_instagram.csv\"  # Pastikan nama file sesuai\n",
        "\n",
        "try:\n",
        "    # Membaca file dengan delimiter yang sesuai (;)\n",
        "    dataset = pd.read_csv(file_path, encoding=\"latin1\", delimiter=\";\")\n",
        "\n",
        "    # Tampilkan informasi awal dataset\n",
        "    print(\"Dataset berhasil dibaca!\")\n",
        "    print(dataset.info())\n",
        "    print(\"Contoh data:\")\n",
        "    print(dataset.head())\n",
        "except Exception as e:\n",
        "    print(f\"Terjadi error saat membaca dataset: {e}\")\n",
        "\n",
        "# Jika ingin melihat struktur file untuk memastikan format:\n",
        "with open(file_path, 'r', encoding='latin1') as file:\n",
        "    print(\"\\n10 Baris Pertama dari File:\")\n",
        "    for i, line in enumerate(file.readlines()[:10]):\n",
        "        print(f\"Baris {i + 1}: {line}\")\n"
      ],
      "metadata": {
        "colab": {
          "base_uri": "https://localhost:8080/"
        },
        "id": "uWXpmctvAkRr",
        "outputId": "5bd1fd23-21eb-43fb-b811-e5e83460c5de"
      },
      "execution_count": 25,
      "outputs": [
        {
          "output_type": "stream",
          "name": "stdout",
          "text": [
            "Dataset berhasil dibaca!\n",
            "<class 'pandas.core.frame.DataFrame'>\n",
            "RangeIndex: 840 entries, 0 to 839\n",
            "Data columns (total 5 columns):\n",
            " #   Column          Non-Null Count  Dtype \n",
            "---  ------          --------------  ----- \n",
            " 0   ï»¿comment_id   840 non-null    int64 \n",
            " 1   username        840 non-null    object\n",
            " 2   userid          840 non-null    int64 \n",
            " 3   label_sentimen  840 non-null    object\n",
            " 4   text            840 non-null    object\n",
            "dtypes: int64(2), object(3)\n",
            "memory usage: 32.9+ KB\n",
            "None\n",
            "Contoh data:\n",
            "       ï»¿comment_id         username       userid label_sentimen  \\\n",
            "0  18205865731294506  taufiqrahman100   6259203611       Negative   \n",
            "1  18044542370026087      coi_siwon45  57641547949       Negative   \n",
            "2  18044484197095236      torasadytia    318015623       Negative   \n",
            "3  18049045717972614        yetitaher    313460654       Negative   \n",
            "4  18018004376621305    rizalrasyiiid   3746721014       Negative   \n",
            "\n",
            "                                                text  \n",
            "0              TEBANG PILIH HANYA UNTUK OPOSISI ð  \n",
            "1            @t0p.kom3n Aamiin ya rabbal alamin ð¤²  \n",
            "2  bingung gak tu Kejagung, salah kebijakan tapi ...  \n",
            "3  KASUS INI KATANYA DARI LAPORAN MASYARAKAT?? SA...  \n",
            "4  Maaf pak, saya nggak percaya sama bapak. Nggak...  \n",
            "\n",
            "10 Baris Pertama dari File:\n",
            "Baris 1: ï»¿comment_id;username;userid;label_sentimen;text\n",
            "\n",
            "Baris 2: 18205865731294506;taufiqrahman100;6259203611;Negative;TEBANG PILIH HANYA UNTUK OPOSISI ð\n",
            "\n",
            "Baris 3: 18044542370026087;coi_siwon45;57641547949;Negative;@t0p.kom3n Aamiin ya rabbal alamin ð¤²\n",
            "\n",
            "Baris 4: 18044484197095236;torasadytia;318015623;Negative;bingung gak tu Kejagung, salah kebijakan tapi tidak memberikan keuntungan pribadi untuk Tom Lembong, kalau kebijakannya salah, lah itu semua pejabat kebijakannya salah, gimana kasus food estate? IKN? hahaha\n",
            "\n",
            "Baris 5: 18049045717972614;yetitaher;313460654;Negative;KASUS INI KATANYA DARI LAPORAN MASYARAKAT?? SAYA MAU MENGADU JUGA SEBAGAI MASYARAKAT AGAR KASUS INI TUNTAS USUT DARI MULAI MENDAG RAHMAT GOBEL SAMPE ZULKIFLI HASAN TERKAIT IMPORT GULA. SEKIAN\n",
            "\n",
            "Baris 6: 18018004376621305;rizalrasyiiid;3746721014;Negative;Maaf pak, saya nggak percaya sama bapak. Nggak boleh jahat pak sama orang yang nggak bersalah. Dunia menyorot penegakan hukum di negara kita. Jangan sampai ada kesan aparat hukum Indonesia mempolitisasi hukum.\n",
            "\n",
            "Baris 7: 18094094986487362;doel_abdulrahman;5461506825;Negative;wkwkwk\n",
            "\n",
            "Baris 8: 17919520676998892;afriliameika;11369561184;Positive;Halo @kejaksaan.ri buktiin dong kalo hukum indonesia tidak tebang pilih. Usut semua mendag setelah Tom Lembongâ¼ï¸ jangan lupa juga blok medan dan jet pribadi ðð» hidup di dunia ga bakal lama loh pak/bu..\n",
            "\n",
            "Baris 9: 17957511374831514;andriyan_syah16;5699302005;Positive;yuk kita semua rakyat indonesia rame2 viralkan taq seluruh pejabat2 yang korupsi walaupun itu pejabatnya dalam pemerintahan prabowo!!! yuk ramaikan viralkan semua nya taq para2 pejabat2 dan seluruh instansi2 termasuk instansi2 @official.kpk , @dpr_ri dan semuanya keseluruhan instansi2 yang bertugas mengenai korupsi2 di Negara Indonesia Ini!!!! Lawan Korupsi Lawan Ketidak Adilan di Negara yang super besar Ini!!!! biar semua instansi mulai 2024 dan  selamanya mulai jujur dan adil dalam bekerja!!!!\n",
            "\n",
            "Baris 10: 18469594519061870;andriyan_syah16;5699302005;Negative;ni siapa yg megang akun kejaksaan???? hello sampai kan ke pemimpin pusat anda siapa tu la suruh kerja yang jujur sejujurnya ingat kalian semua manusia di muka bumi ini akan MATI !!! So Kerja yang jujur dan se adil2 nya!!!! periksa seluruh pejabat2 negara Indonesia lainnya PASTI PARA PEJABAT2 LAINNYA ADA YANG KORUPSI BAHKAN NILAINYA JAUH LEBIH TINGGI !!!!!!!!\n",
            "\n"
          ]
        }
      ]
    },
    {
      "cell_type": "code",
      "source": [
        "from transformers import pipeline\n",
        "\n",
        "# Load the sentiment analysis pipeline\n",
        "print(\"Memuat model RoBERTa untuk analisis sentimen...\")\n",
        "sentiment_pipeline = pipeline(\"sentiment-analysis\", model=\"w11wo/indonesian-roberta-base-sentiment-classifier\")\n",
        "\n",
        "# Pilih kolom teks untuk dianalisis\n",
        "comments = dataset['text'].dropna()  # Menghapus nilai NaN jika ada\n",
        "\n",
        "# Analisis sentimen untuk semua komentar\n",
        "print(\"Melakukan analisis sentimen, tunggu sebentar...\")\n",
        "sentiment_results = sentiment_pipeline(comments.tolist())\n",
        "\n",
        "# Tambahkan hasil sentimen ke dataset\n",
        "dataset['sentiment'] = [result['label'] for result in sentiment_results]\n",
        "\n",
        "# Tampilkan hasil contoh\n",
        "print(\"Hasil Analisis Sentimen:\")\n",
        "print(dataset[['text', 'sentiment']].head())\n"
      ],
      "metadata": {
        "colab": {
          "base_uri": "https://localhost:8080/"
        },
        "id": "MFIGRxXQBw9Y",
        "outputId": "3715c5f7-b5b0-4680-d53b-0bfd20c7c3fe"
      },
      "execution_count": 26,
      "outputs": [
        {
          "output_type": "stream",
          "name": "stdout",
          "text": [
            "Memuat model RoBERTa untuk analisis sentimen...\n",
            "Melakukan analisis sentimen, tunggu sebentar...\n",
            "Hasil Analisis Sentimen:\n",
            "                                                text sentiment\n",
            "0              TEBANG PILIH HANYA UNTUK OPOSISI ð  negative\n",
            "1            @t0p.kom3n Aamiin ya rabbal alamin ð¤²  positive\n",
            "2  bingung gak tu Kejagung, salah kebijakan tapi ...  negative\n",
            "3  KASUS INI KATANYA DARI LAPORAN MASYARAKAT?? SA...  negative\n",
            "4  Maaf pak, saya nggak percaya sama bapak. Nggak...  negative\n"
          ]
        }
      ]
    },
    {
      "cell_type": "code",
      "source": [
        "# Simpan hasil ke file baru\n",
        "output_path = \"/content/analys_results.csv\"\n",
        "dataset.to_csv(output_path, index=False)\n",
        "print(f\"Hasil analisis sentimen telah disimpan ke {output_path}.\")\n"
      ],
      "metadata": {
        "colab": {
          "base_uri": "https://localhost:8080/"
        },
        "id": "X1qK7V3pCnwE",
        "outputId": "e17f1d48-2b63-4078-ebd8-f9feaa866df3"
      },
      "execution_count": 27,
      "outputs": [
        {
          "output_type": "stream",
          "name": "stdout",
          "text": [
            "Hasil analisis sentimen telah disimpan ke /content/analys_results.csv.\n"
          ]
        }
      ]
    },
    {
      "cell_type": "code",
      "source": [
        "import matplotlib.pyplot as plt\n",
        "\n",
        "# Visualisasi distribusi sentimen\n",
        "dataset['sentiment'].value_counts().plot(kind='bar', figsize=(8, 6))\n",
        "plt.title(\"Distribusi Sentimen pada Komentar\")\n",
        "plt.xlabel(\"Kategori Sentimen\")\n",
        "plt.ylabel(\"Jumlah Komentar\")\n",
        "plt.xticks(rotation=0)\n",
        "plt.show()\n"
      ],
      "metadata": {
        "colab": {
          "base_uri": "https://localhost:8080/",
          "height": 564
        },
        "id": "INbpJyx9CwX2",
        "outputId": "29b320f6-1cc4-4365-e0a6-1fbdd6687428"
      },
      "execution_count": 28,
      "outputs": [
        {
          "output_type": "display_data",
          "data": {
            "text/plain": [
              "<Figure size 800x600 with 1 Axes>"
            ],
            "image/png": "[encoded data removed]"
          },
          "metadata": {}
        }
      ]
    },
    {
      "cell_type": "code",
      "source": [
        "from sklearn.model_selection import StratifiedKFold\n",
        "from sklearn.metrics import classification_report, accuracy_score\n",
        "from transformers import pipeline\n",
        "import numpy as np\n",
        "import pandas as pd\n",
        "\n",
        "# Normalize labels to lowercase for consistency\n",
        "def normalize_labels(labels):\n",
        "    return [label.lower() for label in labels]\n",
        "\n",
        "# Load RoBERTa model\n",
        "print(\"Memuat model RoBERTa untuk analisis sentimen...\")\n",
        "sentiment_pipeline = pipeline(\"sentiment-analysis\", model=\"w11wo/indonesian-roberta-base-sentiment-classifier\")\n",
        "\n",
        "# Kolom komentar dan label sentimen\n",
        "comments = dataset['text']\n",
        "sentiments = dataset['label_sentimen']  # Pastikan kolom ini ada jika menggunakan ground truth\n",
        "\n",
        "# Placeholder untuk laporan klasifikasi dan akurasi setiap fold\n",
        "all_reports = []\n",
        "accuracies = []\n",
        "\n",
        "# Stratified K-Fold Cross Validation\n",
        "kf = StratifiedKFold(n_splits=5, shuffle=True, random_state=42)\n",
        "\n",
        "for fold, (train_index, test_index) in enumerate(kf.split(comments, sentiments)):\n",
        "    print(f\"\\nFold {fold + 1}\")\n",
        "\n",
        "    # Split data menjadi training dan testing\n",
        "    train_comments, test_comments = comments.iloc[train_index], comments.iloc[test_index]\n",
        "    train_labels, test_labels = sentiments.iloc[train_index], sentiments.iloc[test_index]\n",
        "\n",
        "    # Prediksi sentimen untuk data testing\n",
        "    print(\"Melakukan prediksi sentimen...\")\n",
        "    test_predictions = sentiment_pipeline(test_comments.tolist())\n",
        "    predicted_labels = normalize_labels([result['label'] for result in test_predictions])\n",
        "    true_labels = normalize_labels(test_labels.tolist())\n",
        "\n",
        "    # Evaluasi menggunakan classification_report\n",
        "    report = classification_report(true_labels, predicted_labels, zero_division=1, output_dict=True)\n",
        "    all_reports.append(report)\n",
        "\n",
        "    # Hitung akurasi\n",
        "    accuracy = accuracy_score(true_labels, predicted_labels)\n",
        "    accuracies.append(accuracy)\n",
        "\n",
        "    # Tampilkan laporan klasifikasi per fold\n",
        "    print(f\"Laporan Klasifikasi untuk Fold {fold + 1}:\")\n",
        "    print(classification_report(true_labels, predicted_labels, zero_division=1))\n",
        "    print(f\"Akurasi untuk Fold {fold + 1}: {accuracy * 100:.2f}%\")\n",
        "\n",
        "# Rata-rata metrik dari semua fold\n",
        "avg_precision = np.mean([report['weighted avg']['precision'] for report in all_reports])\n",
        "avg_recall = np.mean([report['weighted avg']['recall'] for report in all_reports])\n",
        "avg_f1_score = np.mean([report['weighted avg']['f1-score'] for report in all_reports])\n",
        "avg_accuracy = np.mean(accuracies)\n",
        "\n",
        "print(\"\\nRata-rata Hasil K-Fold Cross Validation:\")\n",
        "print(f\"Rata-rata Precision: {avg_precision:.2f}\")\n",
        "print(f\"Rata-rata Recall: {avg_recall:.2f}\")\n",
        "print(f\"Rata-rata F1-Score: {avg_f1_score:.2f}\")\n",
        "print(f\"Rata-rata Akurasi: {avg_accuracy * 100:.2f}%\")\n"
      ],
      "metadata": {
        "id": "D8gj7jOyDvs7",
        "colab": {
          "base_uri": "https://localhost:8080/"
        },
        "outputId": "ae21bb2f-3138-4909-b7f9-7ba5a131ce7d"
      },
      "execution_count": 30,
      "outputs": [
        {
          "output_type": "stream",
          "name": "stdout",
          "text": [
            "Memuat model RoBERTa untuk analisis sentimen...\n"
          ]
        },
        {
          "output_type": "stream",
          "name": "stderr",
          "text": [
            "/usr/local/lib/python3.10/dist-packages/sklearn/model_selection/_split.py:776: UserWarning: The least populated class in y has only 4 members, which is less than n_splits=5.\n",
            "  warnings.warn(\n"
          ]
        },
        {
          "output_type": "stream",
          "name": "stdout",
          "text": [
            "\n",
            "Fold 1\n",
            "Melakukan prediksi sentimen...\n",
            "Laporan Klasifikasi untuk Fold 1:\n",
            "              precision    recall  f1-score   support\n",
            "\n",
            "    negative       0.94      0.61      0.74       157\n",
            "     neutral       0.00      1.00      0.00         0\n",
            "    positive       0.11      0.36      0.17        11\n",
            "\n",
            "    accuracy                           0.60       168\n",
            "   macro avg       0.35      0.66      0.30       168\n",
            "weighted avg       0.89      0.60      0.70       168\n",
            "\n",
            "Akurasi untuk Fold 1: 59.52%\n",
            "\n",
            "Fold 2\n",
            "Melakukan prediksi sentimen...\n",
            "Laporan Klasifikasi untuk Fold 2:\n",
            "              precision    recall  f1-score   support\n",
            "\n",
            "    negative       0.93      0.63      0.76       156\n",
            "     neutral       0.00      0.00      0.00         1\n",
            "    positive       0.12      0.27      0.17        11\n",
            "\n",
            "    accuracy                           0.61       168\n",
            "   macro avg       0.35      0.30      0.31       168\n",
            "weighted avg       0.88      0.61      0.71       168\n",
            "\n",
            "Akurasi untuk Fold 2: 60.71%\n",
            "\n",
            "Fold 3\n",
            "Melakukan prediksi sentimen...\n",
            "Laporan Klasifikasi untuk Fold 3:\n",
            "              precision    recall  f1-score   support\n",
            "\n",
            "    negative       0.92      0.63      0.75       156\n",
            "     neutral       0.00      0.00      0.00         1\n",
            "    positive       0.07      0.18      0.10        11\n",
            "\n",
            "    accuracy                           0.60       168\n",
            "   macro avg       0.33      0.27      0.28       168\n",
            "weighted avg       0.86      0.60      0.70       168\n",
            "\n",
            "Akurasi untuk Fold 3: 59.52%\n",
            "\n",
            "Fold 4\n",
            "Melakukan prediksi sentimen...\n",
            "Laporan Klasifikasi untuk Fold 4:\n",
            "              precision    recall  f1-score   support\n",
            "\n",
            "    negative       0.95      0.62      0.75       156\n",
            "     neutral       0.00      0.00      0.00         1\n",
            "    positive       0.15      0.36      0.22        11\n",
            "\n",
            "    accuracy                           0.60       168\n",
            "   macro avg       0.37      0.33      0.32       168\n",
            "weighted avg       0.89      0.60      0.71       168\n",
            "\n",
            "Akurasi untuk Fold 4: 60.12%\n",
            "\n",
            "Fold 5\n",
            "Melakukan prediksi sentimen...\n",
            "Laporan Klasifikasi untuk Fold 5:\n",
            "              precision    recall  f1-score   support\n",
            "\n",
            "    negative       0.92      0.61      0.73       156\n",
            "     neutral       0.00      0.00      0.00         1\n",
            "    positive       0.14      0.36      0.20        11\n",
            "\n",
            "    accuracy                           0.59       168\n",
            "   macro avg       0.35      0.32      0.31       168\n",
            "weighted avg       0.87      0.59      0.69       168\n",
            "\n",
            "Akurasi untuk Fold 5: 58.93%\n",
            "\n",
            "Rata-rata Hasil K-Fold Cross Validation:\n",
            "Rata-rata Precision: 0.88\n",
            "Rata-rata Recall: 0.60\n",
            "Rata-rata F1-Score: 0.70\n",
            "Rata-rata Akurasi: 59.76%\n"
          ]
        }
      ]
    },
    {
      "cell_type": "code",
      "source": [
        "from sklearn.metrics import confusion_matrix, ConfusionMatrixDisplay\n",
        "\n",
        "# Buat confusion matrix untuk salah satu fold\n",
        "cm = confusion_matrix(true_labels, predicted_labels, labels=['negative', 'neutral', 'positive'])\n",
        "disp = ConfusionMatrixDisplay(confusion_matrix=cm, display_labels=['negative', 'neutral', 'positive'])\n",
        "\n",
        "# Tampilkan confusion matrix\n",
        "disp.plot(cmap='Blues')\n"
      ],
      "metadata": {
        "colab": {
          "base_uri": "https://localhost:8080/",
          "height": 467
        },
        "id": "OeuisXlmLW4x",
        "outputId": "0a8c5e09-a734-4aed-efc2-9914fd206b00"
      },
      "execution_count": 31,
      "outputs": [
        {
          "output_type": "execute_result",
          "data": {
            "text/plain": [
              "<sklearn.metrics._plot.confusion_matrix.ConfusionMatrixDisplay at 0x7c217ba622c0>"
            ]
          },
          "metadata": {},
          "execution_count": 31
        },
        {
          "output_type": "display_data",
          "data": {
            "text/plain": [
              "<Figure size 640x480 with 2 Axes>"
            ],
            "image/png": "[encoded data removed]"
          },
          "metadata": {}
        }
      ]
    },
    {
      "cell_type": "code",
      "source": [
        "import pandas as pd\n",
        "\n",
        "# Ganti file_path dengan path ke file dataset Anda\n",
        "file_path = \"/content/dataset_komentar_instagram.csv\"  # Pastikan sesuai dengan file Anda\n",
        "df = pd.read_csv(file_path, encoding=\"latin1\", delimiter=\";\")\n",
        "\n",
        "# Tampilkan beberapa baris untuk memastikan data sudah dimuat\n",
        "print(df.head())\n"
      ],
      "metadata": {
        "colab": {
          "base_uri": "https://localhost:8080/"
        },
        "id": "ouSLaPvyOT1I",
        "outputId": "13ba5884-9ce5-442f-daeb-00dc299dc7eb"
      },
      "execution_count": 34,
      "outputs": [
        {
          "output_type": "stream",
          "name": "stdout",
          "text": [
            "       ï»¿comment_id         username       userid label_sentimen  \\\n",
            "0  18205865731294506  taufiqrahman100   6259203611       Negative   \n",
            "1  18044542370026087      coi_siwon45  57641547949       Negative   \n",
            "2  18044484197095236      torasadytia    318015623       Negative   \n",
            "3  18049045717972614        yetitaher    313460654       Negative   \n",
            "4  18018004376621305    rizalrasyiiid   3746721014       Negative   \n",
            "\n",
            "                                                text  \n",
            "0              TEBANG PILIH HANYA UNTUK OPOSISI ð  \n",
            "1            @t0p.kom3n Aamiin ya rabbal alamin ð¤²  \n",
            "2  bingung gak tu Kejagung, salah kebijakan tapi ...  \n",
            "3  KASUS INI KATANYA DARI LAPORAN MASYARAKAT?? SA...  \n",
            "4  Maaf pak, saya nggak percaya sama bapak. Nggak...  \n"
          ]
        }
      ]
    },
    {
      "cell_type": "code",
      "source": [
        "print(df.columns)\n"
      ],
      "metadata": {
        "colab": {
          "base_uri": "https://localhost:8080/"
        },
        "id": "_A_9uHn7Pg6m",
        "outputId": "87d91564-a078-4c86-ad2a-a91c806e2555"
      },
      "execution_count": 35,
      "outputs": [
        {
          "output_type": "stream",
          "name": "stdout",
          "text": [
            "Index(['ï»¿comment_id', 'username', 'userid', 'label_sentimen', 'text'], dtype='object')\n"
          ]
        }
      ]
    },
    {
      "cell_type": "code",
      "source": [
        "# Hapus label \"neutral\" dari dataset\n",
        "df = df[df['label_sentimen'] != 'Neutral'].reset_index(drop=True)\n",
        "\n",
        "# Konfirmasikan penghapusan\n",
        "print(\"Distribusi label setelah penghapusan 'neutral':\")\n",
        "print(df['label_sentimen'].value_counts())\n"
      ],
      "metadata": {
        "colab": {
          "base_uri": "https://localhost:8080/"
        },
        "id": "fRjXhn9gPieZ",
        "outputId": "8ba1e151-ef81-4cc8-a917-a19cc2cc43d8"
      },
      "execution_count": 37,
      "outputs": [
        {
          "output_type": "stream",
          "name": "stdout",
          "text": [
            "Distribusi label setelah penghapusan 'neutral':\n",
            "label_sentimen\n",
            "Negative    781\n",
            "Positive     55\n",
            "Name: count, dtype: int64\n"
          ]
        }
      ]
    },
    {
      "cell_type": "code",
      "source": [
        "from sklearn.feature_extraction.text import TfidfVectorizer\n",
        "from imblearn.over_sampling import SMOTE\n",
        "from sklearn.model_selection import train_test_split\n",
        "import pandas as pd\n"
      ],
      "metadata": {
        "id": "yGSBnBCtPz2W"
      },
      "execution_count": 40,
      "outputs": []
    },
    {
      "cell_type": "code",
      "source": [
        "# Split data menjadi training dan testing\n",
        "X = df['text']  # Fitur teks\n",
        "y = df['label_sentimen'].map({'Negative': 0, 'Positive': 1})  # Label numerik\n",
        "\n",
        "X_train, X_test, y_train, y_test = train_test_split(X, y, test_size=0.2, random_state=42, stratify=y)\n"
      ],
      "metadata": {
        "id": "-jwiuVjsQf3b"
      },
      "execution_count": 41,
      "outputs": []
    },
    {
      "cell_type": "code",
      "source": [
        "# Konversi teks menjadi representasi numerik menggunakan TF-IDF\n",
        "tfidf = TfidfVectorizer(max_features=5000)  # Pilih jumlah fitur maksimal\n",
        "X_train_tfidf = tfidf.fit_transform(X_train).toarray()  # Data training\n",
        "X_test_tfidf = tfidf.transform(X_test).toarray()        # Data testing\n"
      ],
      "metadata": {
        "id": "tF8PrGr_Q2UZ"
      },
      "execution_count": 42,
      "outputs": []
    },
    {
      "cell_type": "code",
      "source": [
        "# Terapkan SMOTE pada data training\n",
        "smote = SMOTE(random_state=42)\n",
        "X_train_resampled, y_train_resampled = smote.fit_resample(X_train_tfidf, y_train)\n",
        "\n",
        "# Konversi hasil kembali ke DataFrame (opsional)\n",
        "df_train_resampled = pd.DataFrame(X_train_resampled)\n",
        "df_train_resampled['label'] = y_train_resampled\n"
      ],
      "metadata": {
        "id": "jucm--ZpQ8n0"
      },
      "execution_count": 43,
      "outputs": []
    },
    {
      "cell_type": "code",
      "source": [
        "# Tampilkan distribusi label setelah SMOTE\n",
        "import numpy as np\n",
        "\n",
        "unique, counts = np.unique(y_train_resampled, return_counts=True)\n",
        "print(\"Distribusi label setelah SMOTE:\", dict(zip(unique, counts)))\n"
      ],
      "metadata": {
        "colab": {
          "base_uri": "https://localhost:8080/"
        },
        "id": "JPpwLY5QQ-fd",
        "outputId": "f0209828-0135-4b10-fedb-57de44b90c78"
      },
      "execution_count": 44,
      "outputs": [
        {
          "output_type": "stream",
          "name": "stdout",
          "text": [
            "Distribusi label setelah SMOTE: {0: 624, 1: 624}\n"
          ]
        }
      ]
    },
    {
      "cell_type": "code",
      "source": [
        "from datasets import Dataset\n",
        "\n",
        "# Konversi data training dan testing ke format Hugging Face Dataset\n",
        "train_dataset = Dataset.from_dict({'text': X_train.tolist(), 'label': y_train.tolist()})\n",
        "test_dataset = Dataset.from_dict({'text': X_test.tolist(), 'label': y_test.tolist()})\n"
      ],
      "metadata": {
        "id": "6BynoF71RKFp"
      },
      "execution_count": 45,
      "outputs": []
    },
    {
      "cell_type": "code",
      "source": [
        "from transformers import AutoTokenizer\n",
        "\n",
        "# Load tokenizer\n",
        "model_checkpoint = \"w11wo/indonesian-roberta-base-sentiment-classifier\"\n",
        "tokenizer = AutoTokenizer.from_pretrained(model_checkpoint)\n",
        "\n",
        "# Tokenisasi data\n",
        "def tokenize_function(examples):\n",
        "    return tokenizer(examples['text'], padding=\"max_length\", truncation=True)\n",
        "\n",
        "train_dataset = train_dataset.map(tokenize_function, batched=True)\n",
        "test_dataset = test_dataset.map(tokenize_function, batched=True)\n"
      ],
      "metadata": {
        "colab": {
          "base_uri": "https://localhost:8080/",
          "height": 118,
          "referenced_widgets": [
            "ba695b3b95e44a148d671d1bae77055d",
            "e7959b622a844773a6462289a4da1b82",
            "f94d9c372a534ce6a673cbb0866a26b3",
            "c7293e8f5cde4d29a758e216ec4abf0d",
            "584f713e912441c182a3da2c1e50c547",
            "b1e0c59fb3534abf877b3f7d08660081",
            "fb3fbfea4e43400ead4bb5d922c9fc2b",
            "e8ad2638f7fa495d8cc2303024c0f870",
            "9a2b6450b69048caae46d71c264f112c",
            "9f5a7f6d3462452e8ca62ad7b967ed9a",
            "3102ddcb46d747b4accfe65ce0afc8d1",
            "e6c79702d82141f8897d4eb18282cb8c",
            "39af02a09ff04ee39c9eed67fa90e9be",
            "417830f3a0a4486585599d2aa890e4cb",
            "5604157dfa0c444cb06b178e513f86d5",
            "668580041e1f4e279f99ac497097baca",
            "8eed8dfb2aef455aa034f4781c71b81d",
            "fce56f9bc2f14d5094af2a85d7559bc8",
            "dbb5b5ad4fea4f0391edebbc826c3a0d",
            "65fcde30b9314f36b7ad8b5f1283bad3",
            "5ff3340a38e04db3adb5f467df391699",
            "ae1ca705da034e27970bde563007513d"
          ]
        },
        "id": "E-TN-MlXRNw4",
        "outputId": "0fa1d4e3-4d47-49fc-d880-b5bd95a05251"
      },
      "execution_count": 46,
      "outputs": [
        {
          "output_type": "display_data",
          "data": {
            "text/plain": [
              "Map:   0%|          | 0/668 [00:00<?, ? examples/s]"
            ],
            "application/vnd.jupyter.widget-view+json": {
              "version_major": 2,
              "version_minor": 0,
              "model_id": "ba695b3b95e44a148d671d1bae77055d"
            }
          },
          "metadata": {}
        },
        {
          "output_type": "stream",
          "name": "stderr",
          "text": [
            "Asking to pad to max_length but no maximum length is provided and the model has no predefined maximum length. Default to no padding.\n",
            "Asking to truncate to max_length but no maximum length is provided and the model has no predefined maximum length. Default to no truncation.\n"
          ]
        },
        {
          "output_type": "display_data",
          "data": {
            "text/plain": [
              "Map:   0%|          | 0/168 [00:00<?, ? examples/s]"
            ],
            "application/vnd.jupyter.widget-view+json": {
              "version_major": 2,
              "version_minor": 0,
              "model_id": "e6c79702d82141f8897d4eb18282cb8c"
            }
          },
          "metadata": {}
        }
      ]
    },
    {
      "cell_type": "code",
      "source": [
        "from transformers import AutoModelForSequenceClassification\n",
        "\n",
        "# Load model untuk klasifikasi dengan 2 label (positive dan negative)\n",
        "model = AutoModelForSequenceClassification.from_pretrained(\n",
        "    model_checkpoint,\n",
        "    num_labels=2,\n",
        "    ignore_mismatched_sizes=True\n",
        ")\n",
        "\n"
      ],
      "metadata": {
        "colab": {
          "base_uri": "https://localhost:8080/"
        },
        "id": "vei8rZmyRRrr",
        "outputId": "91632771-d05d-414e-e6d5-a40bc9faeea2"
      },
      "execution_count": 48,
      "outputs": [
        {
          "output_type": "stream",
          "name": "stderr",
          "text": [
            "Some weights of RobertaForSequenceClassification were not initialized from the model checkpoint at w11wo/indonesian-roberta-base-sentiment-classifier and are newly initialized because the shapes did not match:\n",
            "- classifier.out_proj.bias: found shape torch.Size([3]) in the checkpoint and torch.Size([2]) in the model instantiated\n",
            "- classifier.out_proj.weight: found shape torch.Size([3, 768]) in the checkpoint and torch.Size([2, 768]) in the model instantiated\n",
            "You should probably TRAIN this model on a down-stream task to be able to use it for predictions and inference.\n"
          ]
        }
      ]
    },
    {
      "cell_type": "code",
      "source": [
        "from transformers import TrainingArguments\n",
        "\n",
        "training_args = TrainingArguments(\n",
        "    output_dir=\"./results\",\n",
        "    evaluation_strategy=\"epoch\",\n",
        "    learning_rate=2e-5,\n",
        "    per_device_train_batch_size=16,\n",
        "    per_device_eval_batch_size=16,\n",
        "    num_train_epochs=3,\n",
        "    weight_decay=0.01,\n",
        "    logging_dir=\"./logs\",\n",
        "    logging_steps=10,\n",
        "    save_steps=500,\n",
        "    save_total_limit=2\n",
        ")\n"
      ],
      "metadata": {
        "colab": {
          "base_uri": "https://localhost:8080/"
        },
        "id": "wLuE5-xyRrrr",
        "outputId": "9ab1fa72-3a0d-4381-ed89-c7d67a0b38a6"
      },
      "execution_count": 49,
      "outputs": [
        {
          "output_type": "stream",
          "name": "stderr",
          "text": [
            "/usr/local/lib/python3.10/dist-packages/transformers/training_args.py:1568: FutureWarning: `evaluation_strategy` is deprecated and will be removed in version 4.46 of 🤗 Transformers. Use `eval_strategy` instead\n",
            "  warnings.warn(\n"
          ]
        }
      ]
    },
    {
      "cell_type": "code",
      "source": [
        "from transformers import Trainer\n",
        "\n",
        "trainer = Trainer(\n",
        "    model=model,\n",
        "    args=training_args,\n",
        "    train_dataset=train_dataset,\n",
        "    eval_dataset=test_dataset,\n",
        "    tokenizer=tokenizer\n",
        ")\n",
        "\n",
        "# Mulai pelatihan\n",
        "trainer.train()\n"
      ],
      "metadata": {
        "colab": {
          "base_uri": "https://localhost:8080/",
          "height": 479
        },
        "id": "uqsrXNVPRu4X",
        "outputId": "92c90cf5-d206-4657-f22b-87662277a054"
      },
      "execution_count": 50,
      "outputs": [
        {
          "output_type": "stream",
          "name": "stderr",
          "text": [
            "<ipython-input-50-06117c7de994>:3: FutureWarning: `tokenizer` is deprecated and will be removed in version 5.0.0 for `Trainer.__init__`. Use `processing_class` instead.\n",
            "  trainer = Trainer(\n",
            "\u001b[34m\u001b[1mwandb\u001b[0m: \u001b[33mWARNING\u001b[0m The `run_name` is currently set to the same value as `TrainingArguments.output_dir`. If this was not intended, please specify a different run name by setting the `TrainingArguments.run_name` parameter.\n",
            "\u001b[34m\u001b[1mwandb\u001b[0m: Using wandb-core as the SDK backend.  Please refer to https://wandb.me/wandb-core for more information.\n"
          ]
        },
        {
          "output_type": "display_data",
          "data": {
            "text/plain": [
              "<IPython.core.display.Javascript object>"
            ],
            "application/javascript": [
              "\n",
              "        window._wandbApiKey = new Promise((resolve, reject) => {\n",
              "            function loadScript(url) {\n",
              "            return new Promise(function(resolve, reject) {\n",
              "                let newScript = document.createElement(\"script\");\n",
              "                newScript.onerror = reject;\n",
              "                newScript.onload = resolve;\n",
              "                document.body.appendChild(newScript);\n",
              "                newScript.src = url;\n",
              "            });\n",
              "            }\n",
              "            loadScript(\"https://cdn.jsdelivr.net/npm/postmate/build/postmate.min.js\").then(() => {\n",
              "            const iframe = document.createElement('iframe')\n",
              "            iframe.style.cssText = \"width:0;height:0;border:none\"\n",
              "            document.body.appendChild(iframe)\n",
              "            const handshake = new Postmate({\n",
              "                container: iframe,\n",
              "                url: 'https://wandb.ai/authorize'\n",
              "            });\n",
              "            const timeout = setTimeout(() => reject(\"Couldn't auto authenticate\"), 5000)\n",
              "            handshake.then(function(child) {\n",
              "                child.on('authorize', data => {\n",
              "                    clearTimeout(timeout)\n",
              "                    resolve(data)\n",
              "                });\n",
              "            });\n",
              "            })\n",
              "        });\n",
              "    "
            ]
          },
          "metadata": {}
        },
        {
          "output_type": "stream",
          "name": "stderr",
          "text": [
            "\u001b[34m\u001b[1mwandb\u001b[0m: Logging into wandb.ai. (Learn how to deploy a W&B server locally: https://wandb.me/wandb-server)\n",
            "\u001b[34m\u001b[1mwandb\u001b[0m: You can find your API key in your browser here: https://wandb.ai/authorize\n",
            "wandb: Paste an API key from your profile and hit enter, or press ctrl+c to quit:"
          ]
        },
        {
          "name": "stdout",
          "output_type": "stream",
          "text": [
            " ··········\n"
          ]
        },
        {
          "output_type": "stream",
          "name": "stderr",
          "text": [
            "\u001b[34m\u001b[1mwandb\u001b[0m: Appending key for api.wandb.ai to your netrc file: /root/.netrc\n"
          ]
        },
        {
          "output_type": "display_data",
          "data": {
            "text/plain": [
              "<IPython.core.display.HTML object>"
            ],
            "text/html": [
              "Tracking run with wandb version 0.18.7"
            ]
          },
          "metadata": {}
        },
        {
          "output_type": "display_data",
          "data": {
            "text/plain": [
              "<IPython.core.display.HTML object>"
            ],
            "text/html": [
              "Run data is saved locally in <code>/content/wandb/run-20241119_163857-z8lnv82i</code>"
            ]
          },
          "metadata": {}
        },
        {
          "output_type": "display_data",
          "data": {
            "text/plain": [
              "<IPython.core.display.HTML object>"
            ],
            "text/html": [
              "Syncing run <strong><a href='https://wandb.ai/josejulianhidayat-perusahaan-pribadi/huggingface/runs/z8lnv82i' target=\"_blank\">./results</a></strong> to <a href='https://wandb.ai/josejulianhidayat-perusahaan-pribadi/huggingface' target=\"_blank\">Weights & Biases</a> (<a href='https://wandb.me/developer-guide' target=\"_blank\">docs</a>)<br/>"
            ]
          },
          "metadata": {}
        },
        {
          "output_type": "display_data",
          "data": {
            "text/plain": [
              "<IPython.core.display.HTML object>"
            ],
            "text/html": [
              " View project at <a href='https://wandb.ai/josejulianhidayat-perusahaan-pribadi/huggingface' target=\"_blank\">https://wandb.ai/josejulianhidayat-perusahaan-pribadi/huggingface</a>"
            ]
          },
          "metadata": {}
        },
        {
          "output_type": "display_data",
          "data": {
            "text/plain": [
              "<IPython.core.display.HTML object>"
            ],
            "text/html": [
              " View run at <a href='https://wandb.ai/josejulianhidayat-perusahaan-pribadi/huggingface/runs/z8lnv82i' target=\"_blank\">https://wandb.ai/josejulianhidayat-perusahaan-pribadi/huggingface/runs/z8lnv82i</a>"
            ]
          },
          "metadata": {}
        },
        {
          "output_type": "display_data",
          "data": {
            "text/plain": [
              "<IPython.core.display.HTML object>"
            ],
            "text/html": [
              "\n",
              "    <div>\n",
              "      \n",
              "      <progress value='126' max='126' style='width:300px; height:20px; vertical-align: middle;'></progress>\n",
              "      [126/126 32:02, Epoch 3/3]\n",
              "    </div>\n",
              "    <table border=\"1\" class=\"dataframe\">\n",
              "  <thead>\n",
              " <tr style=\"text-align: left;\">\n",
              "      <th>Epoch</th>\n",
              "      <th>Training Loss</th>\n",
              "      <th>Validation Loss</th>\n",
              "    </tr>\n",
              "  </thead>\n",
              "  <tbody>\n",
              "    <tr>\n",
              "      <td>1</td>\n",
              "      <td>0.284000</td>\n",
              "      <td>0.260814</td>\n",
              "    </tr>\n",
              "    <tr>\n",
              "      <td>2</td>\n",
              "      <td>0.191800</td>\n",
              "      <td>0.195533</td>\n",
              "    </tr>\n",
              "    <tr>\n",
              "      <td>3</td>\n",
              "      <td>0.167600</td>\n",
              "      <td>0.179869</td>\n",
              "    </tr>\n",
              "  </tbody>\n",
              "</table><p>"
            ]
          },
          "metadata": {}
        },
        {
          "output_type": "execute_result",
          "data": {
            "text/plain": [
              "TrainOutput(global_step=126, training_loss=0.21404642860094705, metrics={'train_runtime': 2167.4638, 'train_samples_per_second': 0.925, 'train_steps_per_second': 0.058, 'total_flos': 90950091839520.0, 'train_loss': 0.21404642860094705, 'epoch': 3.0})"
            ]
          },
          "metadata": {},
          "execution_count": 50
        }
      ]
    },
    {
      "cell_type": "markdown",
      "source": [
        "Penjelasan Tiap Bagian\n",
        "Epoch:\n",
        "\n",
        "Merupakan iterasi ke-berapa dari dataset selama pelatihan.\n",
        "Dalam kasus ini, pelatihan dilakukan selama 3 epoch.\n",
        "Training Loss:\n",
        "\n",
        "Rata-rata loss yang dihitung pada data training selama epoch tersebut.\n",
        "Loss menunjukkan seberapa baik model memprediksi label pada data training.\n",
        "Training Loss per Epoch:\n",
        "Epoch 1: 0.284\n",
        "Epoch 2: 0.192\n",
        "Epoch 3: 0.168\n",
        "Penurunan loss menunjukkan bahwa model belajar dengan baik.\n",
        "Validation Loss:\n",
        "\n",
        "Rata-rata loss pada data validasi (data testing yang digunakan untuk memeriksa performa model tanpa melibatkan data training).\n",
        "Validation Loss per Epoch:\n",
        "Epoch 1: 0.261\n",
        "Epoch 2: 0.196\n",
        "Epoch 3: 0.180\n",
        "Penurunan Validation Loss menunjukkan bahwa model semakin baik memprediksi data yang tidak terlihat selama pelatihan.\n",
        "TrainOutput (Keseluruhan):\n",
        "\n",
        "global_step: Total jumlah langkah pelatihan (batch yang dilalui) selama pelatihan. Dalam kasus ini, 126 langkah.\n",
        "training_loss: Rata-rata training loss keseluruhan (diambil rata-rata dari seluruh epoch). Dalam kasus ini, 0.214.\n",
        "train_runtime: Waktu total pelatihan, yaitu 2167 detik (~36 menit).\n",
        "train_samples_per_second: Kecepatan pelatihan dalam jumlah sampel yang diproses per detik (0.925 sampel/detik).\n",
        "train_steps_per_second: Kecepatan pelatihan dalam langkah batch per detik (0.058 langkah/detik).\n",
        "total_flos: Total operasi floating-point (FLOPS) yang digunakan selama pelatihan.\n",
        "Kesimpulan Hasil\n",
        "Model belajar dengan baik karena Training Loss dan Validation Loss terus menurun di setiap epoch.\n",
        "Performa model cukup stabil, karena tidak ada overfitting (validation loss tidak meningkat di akhir epoch).\n"
      ],
      "metadata": {
        "id": "22YRnzxRak8i"
      }
    },
    {
      "cell_type": "code",
      "source": [
        "results = trainer.evaluate()\n",
        "print(results)\n"
      ],
      "metadata": {
        "colab": {
          "base_uri": "https://localhost:8080/",
          "height": 55
        },
        "id": "GYVjgPKkaaCK",
        "outputId": "cce9cd47-74e7-4f23-fbe5-dac0dc126b7f"
      },
      "execution_count": 51,
      "outputs": [
        {
          "output_type": "display_data",
          "data": {
            "text/plain": [
              "<IPython.core.display.HTML object>"
            ],
            "text/html": [
              "\n",
              "    <div>\n",
              "      \n",
              "      <progress value='11' max='11' style='width:300px; height:20px; vertical-align: middle;'></progress>\n",
              "      [11/11 00:43]\n",
              "    </div>\n",
              "    "
            ]
          },
          "metadata": {}
        },
        {
          "output_type": "stream",
          "name": "stdout",
          "text": [
            "{'eval_loss': 0.1798694133758545, 'eval_runtime': 51.3942, 'eval_samples_per_second': 3.269, 'eval_steps_per_second': 0.214, 'epoch': 3.0}\n"
          ]
        }
      ]
    },
    {
      "cell_type": "code",
      "source": [
        "def predict_new_text(text):\n",
        "    inputs = tokenizer(text, return_tensors=\"pt\", padding=\"max_length\", truncation=True)\n",
        "    outputs = model(**inputs)\n",
        "    predictions = outputs.logits.argmax(dim=1)\n",
        "    label_map = {0: 'Negative', 1: 'Positive'}\n",
        "    return label_map[int(predictions)]\n",
        "\n",
        "# Contoh\n",
        "print(predict_new_text(\"Tebang Pilih !\"))\n"
      ],
      "metadata": {
        "colab": {
          "base_uri": "https://localhost:8080/"
        },
        "id": "RimWXAyTas09",
        "outputId": "d9c47622-ae26-44c3-f487-e64d815a9314"
      },
      "execution_count": 52,
      "outputs": [
        {
          "output_type": "stream",
          "name": "stdout",
          "text": [
            "Negative\n"
          ]
        }
      ]
    },
    {
      "cell_type": "code",
      "source": [
        "trainer.save_model(\"./fine_tuned_roberta\")\n",
        "tokenizer.save_pretrained(\"./fine_tuned_roberta\")\n"
      ],
      "metadata": {
        "colab": {
          "base_uri": "https://localhost:8080/"
        },
        "id": "bSVooGzOa6j3",
        "outputId": "8766b7de-1c4d-4b3a-8a45-c91c33b08ed6"
      },
      "execution_count": 53,
      "outputs": [
        {
          "output_type": "execute_result",
          "data": {
            "text/plain": [
              "('./fine_tuned_roberta/tokenizer_config.json',\n",
              " './fine_tuned_roberta/special_tokens_map.json',\n",
              " './fine_tuned_roberta/vocab.json',\n",
              " './fine_tuned_roberta/merges.txt',\n",
              " './fine_tuned_roberta/added_tokens.json',\n",
              " './fine_tuned_roberta/tokenizer.json')"
            ]
          },
          "metadata": {},
          "execution_count": 53
        }
      ]
    },
    {
      "cell_type": "code",
      "source": [
        "# Evaluasi pada data testing\n",
        "results = trainer.evaluate()\n",
        "print(\"Hasil Evaluasi:\")\n",
        "print(results)\n"
      ],
      "metadata": {
        "colab": {
          "base_uri": "https://localhost:8080/",
          "height": 74
        },
        "id": "9jC8RZ7MboLl",
        "outputId": "6693890d-6b3d-4ce9-d898-b6c2a75f1a7b"
      },
      "execution_count": 54,
      "outputs": [
        {
          "output_type": "display_data",
          "data": {
            "text/plain": [
              "<IPython.core.display.HTML object>"
            ],
            "text/html": [
              "\n",
              "    <div>\n",
              "      \n",
              "      <progress value='22' max='11' style='width:300px; height:20px; vertical-align: middle;'></progress>\n",
              "      [11/11 05:57]\n",
              "    </div>\n",
              "    "
            ]
          },
          "metadata": {}
        },
        {
          "output_type": "stream",
          "name": "stdout",
          "text": [
            "Hasil Evaluasi:\n",
            "{'eval_loss': 0.1798694133758545, 'eval_runtime': 45.8055, 'eval_samples_per_second': 3.668, 'eval_steps_per_second': 0.24, 'epoch': 3.0}\n"
          ]
        }
      ]
    },
    {
      "cell_type": "code",
      "source": [
        "from sklearn.metrics import classification_report\n",
        "\n",
        "# Prediksi data testing\n",
        "predictions = trainer.predict(test_dataset)\n",
        "predicted_labels = predictions.predictions.argmax(axis=1)\n",
        "true_labels = test_dataset['label']\n",
        "\n",
        "# Laporan klasifikasi\n",
        "print(\"Laporan Klasifikasi:\")\n",
        "print(classification_report(true_labels, predicted_labels, target_names=['Negative', 'Positive']))\n"
      ],
      "metadata": {
        "colab": {
          "base_uri": "https://localhost:8080/",
          "height": 202
        },
        "id": "TZBPEq3vb2Xa",
        "outputId": "9d080268-cfe6-4681-f4d9-91112a08ff94"
      },
      "execution_count": 55,
      "outputs": [
        {
          "output_type": "display_data",
          "data": {
            "text/plain": [
              "<IPython.core.display.HTML object>"
            ],
            "text/html": []
          },
          "metadata": {}
        },
        {
          "output_type": "stream",
          "name": "stdout",
          "text": [
            "Laporan Klasifikasi:\n",
            "              precision    recall  f1-score   support\n",
            "\n",
            "    Negative       0.94      1.00      0.97       157\n",
            "    Positive       1.00      0.09      0.17        11\n",
            "\n",
            "    accuracy                           0.94       168\n",
            "   macro avg       0.97      0.55      0.57       168\n",
            "weighted avg       0.94      0.94      0.92       168\n",
            "\n"
          ]
        }
      ]
    },
    {
      "cell_type": "markdown",
      "source": [
        "\n",
        "Interpretasi Hasil Laporan Klasifikasi\n",
        "Dari hasil classification report yang Anda berikan, berikut adalah penjelasan dari metrik-metrik yang muncul:\n",
        "\n",
        "1. Precision:\n",
        "Negative: 0.94\n",
        "Model sangat presisi dalam memprediksi label Negative. Artinya, 94% dari prediksi negatif model adalah benar.\n",
        "Positive: 1.00\n",
        "Model 100% presisi dalam memprediksi label Positive, meskipun jumlah data Positive sangat kecil.\n",
        "2. Recall:\n",
        "Negative: 1.00\n",
        "Model berhasil menangkap semua data dengan label Negative pada data testing. Ini berarti tidak ada false negative untuk kelas ini.\n",
        "Positive: 0.09\n",
        "Model hanya berhasil menangkap 9% dari semua data Positive. Ini menunjukkan bahwa model sangat buruk dalam mendeteksi komentar dengan label Positive.\n",
        "3. F1-Score:\n",
        "Negative: 0.97\n",
        "Kombinasi dari precision dan recall sangat baik untuk label Negative, menunjukkan keseimbangan antara keduanya.\n",
        "Positive: 0.17\n",
        "F1-score sangat rendah untuk label Positive, menunjukkan bahwa model tidak efektif dalam mengenali data positif.\n",
        "4. Accuracy:\n",
        "0.94 (94%)\n",
        "Model memiliki akurasi tinggi secara keseluruhan, tetapi angka ini dipengaruhi oleh dominasi kelas Negative. Model lebih sering memprediksi Negative dengan benar, sehingga akurasi total tinggi.\n",
        "5. Macro Avg:\n",
        "Precision: 0.97, Recall: 0.55, F1-score: 0.57\n",
        "Rata-rata ini menunjukkan performa model secara keseluruhan dengan mempertimbangkan kedua kelas, namun F1-score yang rendah menunjukkan bahwa model sangat tidak seimbang dalam performanya antara kelas Negative dan Positive.\n",
        "6. Weighted Avg:\n",
        "Precision: 0.94, Recall: 0.94, F1-score: 0.92\n",
        "Ini memberikan gambaran performa model dengan mempertimbangkan ketidakseimbangan kelas. Nilai precision dan recall yang tinggi pada rata-rata berbobot menunjukkan bahwa model lebih baik dalam memprediksi kelas mayoritas (Negative).\n"
      ],
      "metadata": {
        "id": "olAKa5fucb_9"
      }
    },
    {
      "cell_type": "code",
      "source": [
        "from sklearn.metrics import ConfusionMatrixDisplay\n",
        "\n",
        "# Tampilkan confusion matrix\n",
        "ConfusionMatrixDisplay.from_predictions(true_labels, predicted_labels, display_labels=['Negative', 'Positive'])\n",
        "plt.show()\n"
      ],
      "metadata": {
        "colab": {
          "base_uri": "https://localhost:8080/",
          "height": 449
        },
        "id": "0PuQpSoccF6a",
        "outputId": "032ab007-caa6-4d48-ca4c-f0d6781c230b"
      },
      "execution_count": 56,
      "outputs": [
        {
          "output_type": "display_data",
          "data": {
            "text/plain": [
              "<Figure size 640x480 with 2 Axes>"
            ],
            "image/png": "[encoded data removed]"
          },
          "metadata": {}
        }
      ]
    },
    {
      "cell_type": "code",
      "source": [
        "from sklearn.metrics import precision_recall_curve\n",
        "import matplotlib.pyplot as plt\n",
        "\n",
        "# Hitung precision, recall, dan threshold\n",
        "precision, recall, thresholds = precision_recall_curve(true_labels, predicted_labels)\n",
        "\n",
        "# Plot Precision-Recall curve\n",
        "plt.plot(recall, precision, marker='.')\n",
        "plt.title(\"Precision-Recall Curve\")\n",
        "plt.xlabel(\"Recall\")\n",
        "plt.ylabel(\"Precision\")\n",
        "plt.show()\n"
      ],
      "metadata": {
        "colab": {
          "base_uri": "https://localhost:8080/",
          "height": 472
        },
        "id": "zJ-kmscYdU-b",
        "outputId": "a01dc088-3ecf-41bb-f656-32ff036076df"
      },
      "execution_count": 58,
      "outputs": [
        {
          "output_type": "display_data",
          "data": {
            "text/plain": [
              "<Figure size 640x480 with 1 Axes>"
            ],
            "image/png": "[encoded data removed]"
          },
          "metadata": {}
        }
      ]
    },
    {
      "cell_type": "code",
      "source": [
        "from sklearn.metrics import roc_curve, auc\n",
        "import matplotlib.pyplot as plt\n",
        "\n",
        "# Hitung fpr, tpr dan threshold\n",
        "fpr, tpr, thresholds = roc_curve(true_labels, predicted_labels)\n",
        "\n",
        "# Hitung AUC\n",
        "roc_auc = auc(fpr, tpr)\n",
        "\n",
        "# Plot ROC curve\n",
        "plt.figure()\n",
        "plt.plot(fpr, tpr, color='blue', lw=2, label=f'ROC curve (area = {roc_auc:.2f})')\n",
        "plt.plot([0, 1], [0, 1], color='gray', linestyle='--')\n",
        "plt.xlim([0.0, 1.0])\n",
        "plt.ylim([0.0, 1.05])\n",
        "plt.xlabel('False Positive Rate')\n",
        "plt.ylabel('True Positive Rate')\n",
        "plt.title('Receiver Operating Characteristic')\n",
        "plt.legend(loc=\"lower right\")\n",
        "plt.show()\n"
      ],
      "metadata": {
        "colab": {
          "base_uri": "https://localhost:8080/",
          "height": 472
        },
        "id": "UTHwAgXEdaMR",
        "outputId": "78f22b21-1363-4320-eb51-4d3f746fc8bb"
      },
      "execution_count": 59,
      "outputs": [
        {
          "output_type": "display_data",
          "data": {
            "text/plain": [
              "<Figure size 640x480 with 1 Axes>"
            ],
            "image/png": "[encoded data removed]"
          },
          "metadata": {}
        }
      ]
    },
    {
      "cell_type": "code",
      "source": [
        "# Asumsi bahwa Anda telah menyimpan data loss selama pelatihan\n",
        "train_losses = trainer.state.log_history\n",
        "train_loss = [x['loss'] for x in train_losses if 'loss' in x]\n",
        "eval_loss = [x['eval_loss'] for x in train_losses if 'eval_loss' in x]\n",
        "\n",
        "# Plot Learning Curve\n",
        "plt.plot(train_loss, label='Training Loss')\n",
        "plt.plot(eval_loss, label='Validation Loss')\n",
        "plt.title('Learning Curve')\n",
        "plt.xlabel('Epochs')\n",
        "plt.ylabel('Loss')\n",
        "plt.legend()\n",
        "plt.show()\n"
      ],
      "metadata": {
        "colab": {
          "base_uri": "https://localhost:8080/",
          "height": 472
        },
        "id": "TW0DFLSpdiBC",
        "outputId": "55a4e8a7-8d2a-4980-d9f8-f4d9182c4603"
      },
      "execution_count": 60,
      "outputs": [
        {
          "output_type": "display_data",
          "data": {
            "text/plain": [
              "<Figure size 640x480 with 1 Axes>"
            ],
            "image/png": "[encoded data removed]"
          },
          "metadata": {}
        }
      ]
    },
    {
      "cell_type": "code",
      "source": [
        "import seaborn as sns\n",
        "import matplotlib.pyplot as plt\n",
        "\n",
        "# Hitung distribusi prediksi\n",
        "prediction_distribution = pd.Series(predicted_labels).value_counts()\n",
        "\n",
        "# Plot distribusi prediksi\n",
        "sns.barplot(x=prediction_distribution.index, y=prediction_distribution.values)\n",
        "plt.title('Distribusi Prediksi Model')\n",
        "plt.xlabel('Kelas')\n",
        "plt.ylabel('Jumlah Prediksi')\n",
        "plt.show()\n"
      ],
      "metadata": {
        "colab": {
          "base_uri": "https://localhost:8080/",
          "height": 472
        },
        "id": "lbOp72_0dmes",
        "outputId": "7917d203-da41-458b-cbda-96fc23f2edf1"
      },
      "execution_count": 61,
      "outputs": [
        {
          "output_type": "display_data",
          "data": {
            "text/plain": [
              "<Figure size 640x480 with 1 Axes>"
            ],
            "image/png": "[encoded data removed]"
          },
          "metadata": {}
        }
      ]
    },
    {
      "cell_type": "code",
      "source": [
        "# Tokenisasi input untuk mendapatkan kata-kata\n",
        "tokens = tokenizer.convert_ids_to_tokens(inputs['input_ids'][0])\n",
        "\n",
        "# Visualisasikan kata-kata dengan atribut warna berdasarkan sentimen\n",
        "import matplotlib.pyplot as plt\n",
        "from wordcloud import WordCloud\n",
        "\n",
        "# Visualisasi dengan WordCloud\n",
        "wordcloud = WordCloud(width=800, height=400).generate(' '.join(tokens))\n",
        "plt.figure(figsize=(10, 5))\n",
        "plt.imshow(wordcloud, interpolation='bilinear')\n",
        "plt.axis(\"off\")\n",
        "plt.title(f\"WordCloud for {sentiment_label} Sentiment\")\n",
        "plt.show()\n"
      ],
      "metadata": {
        "colab": {
          "base_uri": "https://localhost:8080/",
          "height": 444
        },
        "id": "jxtOeykVfr4h",
        "outputId": "16793693-8276-415e-e9f8-2071cf069966"
      },
      "execution_count": 69,
      "outputs": [
        {
          "output_type": "display_data",
          "data": {
            "text/plain": [
              "<Figure size 1000x500 with 1 Axes>"
            ],
            "image/png": "[encoded data removed]"
          },
          "metadata": {}
        }
      ]
    }
  ]
}